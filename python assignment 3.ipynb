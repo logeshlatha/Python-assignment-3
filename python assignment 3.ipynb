{
 "cells": [
  {
   "cell_type": "code",
   "execution_count": 19,
   "id": "6ddbcf7d",
   "metadata": {},
   "outputs": [],
   "source": [
    "#myreduce() function which works exactly like Python's built-in function reduce()\n",
    "def myreduce(List):\n",
    "    max=0\n",
    "    for i in List:\n",
    "        if i>max:\n",
    "            max=i\n",
    "    print (max)"
   ]
  },
  {
   "cell_type": "code",
   "execution_count": 20,
   "id": "7bf7320c",
   "metadata": {},
   "outputs": [],
   "source": [
    "#myfilter() function which works exactly like Python's built-in function filter()\n",
    "def myfilter(List):\n",
    "    for i in List:\n",
    "        if type(i)=='Str':\n",
    "            print(i)"
   ]
  },
  {
   "cell_type": "code",
   "execution_count": 21,
   "id": "08f5c94d",
   "metadata": {},
   "outputs": [
    {
     "name": "stdout",
     "output_type": "stream",
     "text": [
      "['x', 'xx', 'xxx', 'xxxx', 'y', 'yy', 'yyy', 'yyyy', 'z', 'zz', 'zzz', 'zzzz']\n",
      "['x', 'y', 'z', 'xx', 'yy', 'zz', 'xxx', 'yyy', 'zzz', 'xxxx', 'yyyy', 'zzzz']\n",
      "[[2], [3], [4], [3], [4], [5], [4], [5], [6]]\n",
      "[[2, 3, 4, 5], [3, 4, 5, 6], [4, 5, 6, 7], [5, 6, 7, 8]]\n",
      "[(1, 1), (2, 1), (3, 1), (1, 2), (2, 2), (3, 2), (1, 3), (2, 3), (3, 3)]\n"
     ]
    }
   ],
   "source": [
    "#list comprehension for ['x', 'xx', 'xxx', 'xxxx', 'y', 'yy', 'yyy', 'yyyy', 'z', 'zz', 'zzz', 'zzzz']\n",
    "L1=[i*j for i in 'xyz' for j in range(1,5)]\n",
    "print(L1)\n",
    "\n",
    "\n",
    "#list comprehension for ['x', 'y', 'z', 'xx', 'yy', 'zz', 'xxx', 'yyy', 'zzz', 'xxxx', 'yyyy', 'zzzz']\n",
    "L2=[i*j for i in range(1,5) for j in 'xyz']\n",
    "print(L2)\n",
    "\n",
    "\n",
    "#list comprehension for [[2], [3], [4], [3], [4], [5], [4], [5], [6]]\n",
    "L3=[[j] for i in range(2,5) for j in range(i,i+3) if j<7]\n",
    "print(L3)\n",
    "\n",
    "\n",
    "#list comprehension for [[2, 3, 4, 5], [3, 4, 5, 6],[4, 5, 6, 7], [5, 6, 7, 8]]\n",
    "L4=[]\n",
    "for i in range(2,6):\n",
    "    L4_1=[]\n",
    "    for j in range(i,i+4):\n",
    "        L4_1.append(j)\n",
    "    L4.append(L4_1)\n",
    "print(L4)\n",
    "\n",
    "\n",
    "#list comprehension for [(1, 1), (2, 1), (3, 1), (1, 2), (2, 2), (3, 2), (1, 3), (2, 3), (3, 3)]\n",
    "L5=[(i,j) for j in range(1,4) for i in range(1,4)]\n",
    "print(L5)"
   ]
  }
 ],
 "metadata": {
  "kernelspec": {
   "display_name": "Python 3",
   "language": "python",
   "name": "python3"
  },
  "language_info": {
   "codemirror_mode": {
    "name": "ipython",
    "version": 3
   },
   "file_extension": ".py",
   "mimetype": "text/x-python",
   "name": "python",
   "nbconvert_exporter": "python",
   "pygments_lexer": "ipython3",
   "version": "3.8.8"
  }
 },
 "nbformat": 4,
 "nbformat_minor": 5
}
